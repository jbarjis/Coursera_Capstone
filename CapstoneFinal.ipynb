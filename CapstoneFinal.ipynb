{
 "cells": [
  {
   "cell_type": "markdown",
   "metadata": {},
   "source": [
    "# Start-up Location in San Francisco"
   ]
  },
  {
   "cell_type": "markdown",
   "metadata": {},
   "source": [
    "by Joseph Barjis"
   ]
  },
  {
   "cell_type": "markdown",
   "metadata": {},
   "source": [
    "## PROBLEM DESCRIPTION\n",
    "\n",
    "For years, I was observing that Data is the new oil, new natural resources.\n",
    "However, to make this resource useful, accessible, and easy to understand, a special service maybe needed to train and consult companies on their data.\n",
    "Building in-house capacity takes longer to do so.\n",
    "Therefore, I have been building such a service.\n",
    "Now, we (a team of 6 people) want to set up our office in an area with a rich concentration of Fortune 500 companies.\n",
    "The choice was between San Francisco and San Jose.\n",
    "\n",
    "However, to choose the right place in either city, one has to study a set of problems:\n",
    "Proximity to major companies, affordability of office space, ease of access.\n",
    "This is the problem that I want to explore and decide on a suitable location for our start-up company."
   ]
  },
  {
   "cell_type": "markdown",
   "metadata": {},
   "source": [
    "## DATA DESCRIPTION\n",
    "\n",
    "I will aim at getting data on San Francisco (and San Jose, if that would be not too much of work to do both).\n",
    "The primary data source I will use is Foursquare. Others sources I may use are are Wikipedia, SF City databases, list of Fortune 500 companies.\n",
    "I also aim at finding rent per-square information for different neighborhoods of the city.\n",
    "\n",
    "I will draw a map of locations that are favorable to other big companies (Fortune 500) and find out the locations that are not too expensive.\n",
    "\n",
    "This exploration of locations should help me to recommend the right location for our start-up Data Science company."
   ]
  },
  {
   "cell_type": "code",
   "execution_count": null,
   "metadata": {},
   "outputs": [],
   "source": []
  }
 ],
 "metadata": {
  "kernelspec": {
   "display_name": "Python",
   "language": "python",
   "name": "conda-env-python-py"
  },
  "language_info": {
   "codemirror_mode": {
    "name": "ipython",
    "version": 3
   },
   "file_extension": ".py",
   "mimetype": "text/x-python",
   "name": "python",
   "nbconvert_exporter": "python",
   "pygments_lexer": "ipython3",
   "version": "3.6.10"
  }
 },
 "nbformat": 4,
 "nbformat_minor": 4
}
